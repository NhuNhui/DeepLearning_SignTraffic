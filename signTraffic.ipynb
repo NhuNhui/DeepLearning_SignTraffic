{
 "cells": [
  {
   "cell_type": "code",
   "execution_count": null,
   "metadata": {},
   "outputs": [],
   "source": [
    "import tensorflow as tf\n",
    "import matplotlib.pyplot as plt\n",
    "import numpy as np\n",
    "from sklearn.preprocessing import LabelBinarizer\n",
    "import pickle\n",
    "from sklearn.utils import shuffle\n",
    "\n",
    "from tensorflow.keras.models import Model\n",
    "from tensorflow.keras.models import Sequential\n",
    "from tensorflow.keras.layers import BatchNormalization\n",
    "from tensorflow.keras.layers import AveragePooling2D\n",
    "from tensorflow.keras.layers import MaxPooling2D\n",
    "from tensorflow.keras.layers import Activation\n",
    "from tensorflow.keras.layers import Conv2D\n",
    "from tensorflow.keras.layers import Dropout\n",
    "from tensorflow.keras.layers import Flatten\n",
    "from tensorflow.keras.layers import Input\n",
    "from tensorflow.keras.layers import Dense\n",
    "from tensorflow.keras.layers import concatenate\n",
    "from tensorflow.keras.preprocessing.image import ImageDataGenerator\n",
    "from tensorflow.keras.optimizers import SGD"
   ]
  },
  {
   "cell_type": "code",
   "execution_count": null,
   "metadata": {},
   "outputs": [],
   "source": [
    "tf.__version__"
   ]
  },
  {
   "cell_type": "code",
   "execution_count": null,
   "metadata": {},
   "outputs": [],
   "source": [
    "with open(\"data/train.p\",mode=\"rb\") as f: #training set\n",
    "    train = pickle.load(f)\n",
    "    \n",
    "with open(\"data/valid.p\",mode=\"rb\") as f: #validation set\n",
    "    valid = pickle.load(f)\n",
    "    \n",
    "with open(\"data/test.p\",mode=\"rb\") as f: #test set\n",
    "    test = pickle.load(f)\n",
    "    \n",
    "trainX = train['features']\n",
    "trainY = train['labels']"
   ]
  },
  {
   "cell_type": "code",
   "execution_count": null,
   "metadata": {},
   "outputs": [],
   "source": [
    "classNames = {0: 'Speed limit (20km/h)',\n",
    " 1: 'Speed limit (30km/h)',\n",
    " 2: 'Speed limit (50km/h)',\n",
    " 3: 'Speed limit (60km/h)',\n",
    " 4: 'Speed limit (70km/h)',\n",
    " 5: 'Speed limit (80km/h)',\n",
    " 6: 'End of speed limit (80km/h)',\n",
    " 7: 'Speed limit (100km/h)',\n",
    " 8: 'Speed limit (120km/h)',\n",
    " 9: 'No passing',\n",
    " 10: 'No passing for vehicles over 3.5 metric tons',\n",
    " 11: 'Right-of-way at the next intersection',\n",
    " 12: 'Priority road',\n",
    " 13: 'Yield',\n",
    " 14: 'Stop',\n",
    " 15: 'No vehicles',\n",
    " 16: 'Vehicles over 3.5 metric tons prohibited',\n",
    " 17: 'No entry',\n",
    " 18: 'General caution',\n",
    " 19: 'Dangerous curve to the left',\n",
    " 20: 'Dangerous curve to the right',\n",
    " 21: 'Double curve',\n",
    " 22: 'Bumpy road',\n",
    " 23: 'Slippery road',\n",
    " 24: 'Road narrows on the right',\n",
    " 25: 'Road work',\n",
    " 26: 'Traffic signals',\n",
    " 27: 'Pedestrians',\n",
    " 28: 'Children crossing',\n",
    " 29: 'Bicycles crossing',\n",
    " 30: 'Beware of ice/snow',\n",
    " 31: 'Wild animals crossing',\n",
    " 32: 'End of all speed and passing limits',\n",
    " 33: 'Turn right ahead',\n",
    " 34: 'Turn left ahead',\n",
    " 35: 'Ahead only',\n",
    " 36: 'Go straight or right',\n",
    " 37: 'Go straight or left',\n",
    " 38: 'Keep right',\n",
    " 39: 'Keep left',\n",
    " 40: 'Roundabout mandatory',\n",
    " 41: 'End of no passing',\n",
    " 42: 'End of no passing by vehicles over 3.5 metric tons'}\n",
    "# nhãn"
   ]
  },
  {
   "cell_type": "code",
   "execution_count": null,
   "metadata": {},
   "outputs": [],
   "source": [
    "trainX,trainY = shuffle(trainX,trainY)"
   ]
  },
  {
   "cell_type": "code",
   "execution_count": null,
   "metadata": {},
   "outputs": [],
   "source": [
    "validX = valid['features']\n",
    "validY = valid['labels']"
   ]
  },
  {
   "cell_type": "code",
   "execution_count": null,
   "metadata": {},
   "outputs": [],
   "source": [
    "testX = test['features']\n",
    "testY = test['labels']"
   ]
  },
  {
   "cell_type": "code",
   "execution_count": null,
   "metadata": {},
   "outputs": [],
   "source": [
    "trainX = trainX.astype(\"float\") / 255.0\n",
    "validX = validX.astype(\"float\") / 255.0\n",
    "testX = testX.astype(\"float\") / 255.0"
   ]
  },
  {
   "cell_type": "code",
   "execution_count": null,
   "metadata": {},
   "outputs": [],
   "source": [
    "lb = LabelBinarizer()\n",
    "trainY = lb.fit_transform(trainY)\n",
    "validY = lb.fit_transform(validY)\n",
    "# print(validY[5])"
   ]
  },
  {
   "cell_type": "code",
   "execution_count": null,
   "metadata": {},
   "outputs": [],
   "source": [
    "model = Sequential()\n",
    "width = 32\n",
    "heigh = 32\n",
    "classes = 43\n",
    "shape = (width,heigh,3)"
   ]
  },
  {
   "cell_type": "code",
   "execution_count": null,
   "metadata": {},
   "outputs": [],
   "source": [
    "model.add(Conv2D(32,(3,3),padding=\"same\",input_shape=shape))\n",
    "model.add(Activation(\"relu\"))\n",
    "model.add(BatchNormalization())"
   ]
  },
  {
   "cell_type": "code",
   "execution_count": null,
   "metadata": {},
   "outputs": [],
   "source": [
    "model.add(Conv2D(32,(3,3),padding=\"same\"))\n",
    "model.add(Activation(\"relu\"))\n",
    "model.add(BatchNormalization())"
   ]
  },
  {
   "cell_type": "code",
   "execution_count": null,
   "metadata": {},
   "outputs": [],
   "source": [
    "model.add(MaxPooling2D(pool_size=(2,2)))"
   ]
  },
  {
   "cell_type": "code",
   "execution_count": null,
   "metadata": {},
   "outputs": [],
   "source": [
    "model.add(Conv2D(64,(3,3),padding=\"same\"))\n",
    "model.add(Activation(\"relu\"))\n",
    "model.add(BatchNormalization())"
   ]
  },
  {
   "cell_type": "code",
   "execution_count": null,
   "metadata": {},
   "outputs": [],
   "source": [
    "model.add(Conv2D(64,(3,3),padding=\"same\"))\n",
    "model.add(Activation(\"relu\"))\n",
    "model.add(BatchNormalization())"
   ]
  },
  {
   "cell_type": "code",
   "execution_count": null,
   "metadata": {},
   "outputs": [],
   "source": [
    "model.add(MaxPooling2D(pool_size=(2,2)))"
   ]
  },
  {
   "cell_type": "code",
   "execution_count": null,
   "metadata": {},
   "outputs": [],
   "source": [
    "model.add(Flatten())"
   ]
  },
  {
   "cell_type": "code",
   "execution_count": null,
   "metadata": {},
   "outputs": [],
   "source": [
    "model.add(Dense(512))\n",
    "model.add(Activation(\"relu\"))\n",
    "model.add(BatchNormalization())"
   ]
  },
  {
   "cell_type": "code",
   "execution_count": null,
   "metadata": {},
   "outputs": [],
   "source": [
    "model.add(Dense(classes))\n",
    "model.add(Activation(\"softmax\"))"
   ]
  },
  {
   "cell_type": "code",
   "execution_count": null,
   "metadata": {},
   "outputs": [],
   "source": [
    "model.summary()"
   ]
  },
  {
   "cell_type": "code",
   "execution_count": null,
   "metadata": {},
   "outputs": [],
   "source": [
    "aug = ImageDataGenerator(rotation_range=0.18,zoom_range=0.15,width_shift_range=0.2,height_shift_range=0.2,horizontal_flip=True)\n",
    "learning_rate = 0.01\n",
    "epochs = 10\n",
    "batch_size = 64\n",
    "opt = SGD(learning_rate=learning_rate,momentum=0.9)"
   ]
  },
  {
   "cell_type": "code",
   "execution_count": null,
   "metadata": {},
   "outputs": [],
   "source": [
    "model.compile(optimizer=opt,loss=\"categorical_crossentropy\",metrics=[\"accuracy\"])"
   ]
  },
  {
   "cell_type": "code",
   "execution_count": null,
   "metadata": {},
   "outputs": [],
   "source": [
    "print(\"Start Training - - - - - - - - - - - - \")\n",
    "H = model.fit(aug.flow(trainX,trainY,batch_size=batch_size),\n",
    "                        validation_data=(validX,validY),\n",
    "                        steps_per_epoch=trainX.shape[0]//batch_size,\n",
    "                        epochs=epochs,verbose=1)\n"
   ]
  },
  {
   "cell_type": "code",
   "execution_count": null,
   "metadata": {},
   "outputs": [],
   "source": [
    "model.save(\"MyLee.h5\")\n",
    "model_saved = tf.keras.models.load_model(\"MyLee.h5\")"
   ]
  },
  {
   "cell_type": "code",
   "execution_count": null,
   "metadata": {},
   "outputs": [],
   "source": [
    "x = 143\n",
    "result = model_saved.predict(testX[x:x+1])\n",
    "# print(result)\n",
    "predict = np.argmax(result)\n",
    "predict = classNames[predict]\n",
    "plt.imshow(test[\"features\"][x])\n",
    "print(predict)"
   ]
  }
 ],
 "metadata": {
  "kernelspec": {
   "display_name": "Python 3",
   "language": "python",
   "name": "python3"
  },
  "language_info": {
   "codemirror_mode": {
    "name": "ipython",
    "version": 3
   },
   "file_extension": ".py",
   "mimetype": "text/x-python",
   "name": "python",
   "nbconvert_exporter": "python",
   "pygments_lexer": "ipython3",
   "version": "3.11.7"
  }
 },
 "nbformat": 4,
 "nbformat_minor": 2
}
